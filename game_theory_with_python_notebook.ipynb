{
  "nbformat": 4,
  "nbformat_minor": 0,
  "metadata": {
    "kernelspec": {
      "display_name": "Python 3",
      "language": "python",
      "name": "python3"
    },
    "language_info": {
      "codemirror_mode": {
        "name": "ipython",
        "version": 3
      },
      "file_extension": ".py",
      "mimetype": "text/x-python",
      "name": "python",
      "nbconvert_exporter": "python",
      "pygments_lexer": "ipython3",
      "version": "3.7.4"
    },
    "colab": {
      "name": "game_theory_with_python_notebook.ipynb",
      "provenance": [],
      "collapsed_sections": [],
      "include_colab_link": true
    }
  },
  "cells": [
    {
      "cell_type": "markdown",
      "metadata": {
        "id": "view-in-github",
        "colab_type": "text"
      },
      "source": [
        "<a href=\"https://colab.research.google.com/github/abhinavm24/GameTheory/blob/main/game_theory_with_python_notebook.ipynb\" target=\"_parent\"><img src=\"https://colab.research.google.com/assets/colab-badge.svg\" alt=\"Open In Colab\"/></a>"
      ]
    },
    {
      "cell_type": "markdown",
      "metadata": {
        "id": "m80rXVF8I5AN"
      },
      "source": [
        "# Game Theory With Python"
      ]
    },
    {
      "cell_type": "markdown",
      "metadata": {
        "id": "a_WtqfivI5AO"
      },
      "source": [
        "### Welcome to the course. \n",
        "### Glad to have you onboard in this journey to explore two Game Theory packages in Python\n",
        "\n",
        "#### Nashpy & Axelrod"
      ]
    },
    {
      "cell_type": "markdown",
      "metadata": {
        "id": "8gKmBcHBI5AP"
      },
      "source": [
        "#### 7 Tasks\n",
        "#### 1. Create games with Nashpy\n",
        "#### 2. Mixed strategies and Utilities\n",
        "#### 3. Nash Equilibrium\n",
        "#### 4. Games with multiple Nash Equilibria\n",
        "#### 5. Zero Sum Game\n",
        "#### 6. Create repeated game\n",
        "#### 7. Analyze Match"
      ]
    },
    {
      "cell_type": "markdown",
      "metadata": {
        "id": "iQPnHp9SI5AQ"
      },
      "source": [
        "## Two Player Games with Nashpy"
      ]
    },
    {
      "cell_type": "markdown",
      "metadata": {
        "id": "fKYKZgVyI5AR"
      },
      "source": [
        "## 1. Create 2 player games - Using Nashpy\n",
        "\n",
        "### Consider the following Prisoner's Dilemma matrix\n",
        "\n",
        "![picture](https://drive.google.com/uc?id=1fw7j7O8XLGQR3Rt_c9UK_PE6KgLsFeEw)\n"
      ]
    },
    {
      "cell_type": "code",
      "metadata": {
        "id": "vDUwerlDI5AS",
        "colab": {
          "base_uri": "https://localhost:8080/"
        },
        "outputId": "9483e051-cb0e-417c-cac0-c84658aecccb"
      },
      "source": [
        "# Import packages\n",
        "#!pip install nashpy\n",
        "#!pip install axelrod\n",
        "#!pip install --ignore-installed PyYAML\n",
        "#!pip install git+https://github.com/Axelrod-Python/Axelrod.git@dev\n",
        "\n",
        "import nashpy as nash\n",
        "import numpy as np"
      ],
      "execution_count": 3,
      "outputs": [
        {
          "output_type": "stream",
          "name": "stdout",
          "text": [
            "Collecting PyYAML\n",
            "  Using cached PyYAML-6.0-cp37-cp37m-manylinux_2_5_x86_64.manylinux1_x86_64.manylinux_2_12_x86_64.manylinux2010_x86_64.whl (596 kB)\n",
            "Installing collected packages: PyYAML\n",
            "Successfully installed PyYAML-6.0\n"
          ]
        }
      ]
    },
    {
      "cell_type": "code",
      "metadata": {
        "id": "D-rB1BgYI5Aa",
        "colab": {
          "base_uri": "https://localhost:8080/"
        },
        "outputId": "752930b5-f5b2-4d55-9b5f-4a45c9f565f2"
      },
      "source": [
        "# Create the payoff matrix\n",
        "\n",
        "P1 = np.array([[8,1],[15,3]]) # P1 is the row player\n",
        "P2 = np.array([[8,15],[1,3]]) # P2 is the column player\n",
        "pd = nash.Game(P1,P2)\n",
        "pd"
      ],
      "execution_count": 25,
      "outputs": [
        {
          "output_type": "execute_result",
          "data": {
            "text/plain": [
              "Bi matrix game with payoff matrices:\n",
              "\n",
              "Row player:\n",
              "[[ 8  1]\n",
              " [15  3]]\n",
              "\n",
              "Column player:\n",
              "[[ 8 15]\n",
              " [ 1  3]]"
            ]
          },
          "metadata": {},
          "execution_count": 25
        }
      ]
    },
    {
      "cell_type": "markdown",
      "metadata": {
        "id": "mapgZsumI5Ae"
      },
      "source": [
        "### Exercise: Create a two player game, where,\n",
        "\n",
        "#### I. Name players as A and B\n",
        "#### II. Name the game as 'gm' and \n",
        "#### III. Use the follwing matrix\n",
        "\n",
        "![picture](https://drive.google.com/uc?id=1eHhyXZVZWQ3oPto4qcbL1EefxUsWq4bp)\n"
      ]
    },
    {
      "cell_type": "code",
      "metadata": {
        "id": "LBZatKa-I5Af",
        "colab": {
          "base_uri": "https://localhost:8080/"
        },
        "outputId": "701a5a3d-daad-4b86-d2ce-7abd68ae2817"
      },
      "source": [
        "A =  np.array([[5, 17], [14, 12]]) # P1 is the row player\n",
        "B =  np.array([[15, 16], [2, 8]])# P2 is the column player\n",
        "gm = nash.Game(A, B)\n",
        "gm"
      ],
      "execution_count": 60,
      "outputs": [
        {
          "output_type": "execute_result",
          "data": {
            "text/plain": [
              "Bi matrix game with payoff matrices:\n",
              "\n",
              "Row player:\n",
              "[[ 5 17]\n",
              " [14 12]]\n",
              "\n",
              "Column player:\n",
              "[[15 16]\n",
              " [ 2  8]]"
            ]
          },
          "metadata": {},
          "execution_count": 60
        }
      ]
    },
    {
      "cell_type": "markdown",
      "metadata": {
        "id": "CvPz8NuJI5Aj"
      },
      "source": [
        "## 2. Mixed Strategy and Utilities"
      ]
    },
    {
      "cell_type": "markdown",
      "metadata": {
        "id": "6-_cqcSQI5Ak"
      },
      "source": [
        "### Pure Strategy: \n",
        "\n",
        "A complete definition of how a player will play a game, it yields optimum payoff to the player. \n",
        "\n",
        "### Mixed Strategy: \n",
        "\n",
        "Assigns a probability to each pure strategy. This allows for a player to randomly select a pure strategy. "
      ]
    },
    {
      "cell_type": "markdown",
      "metadata": {
        "id": "sV3SS2IKI5Am"
      },
      "source": [
        "### Calculating Utilities:\n",
        "\n",
        "![picture](https://drive.google.com/uc?id=1eIMuJo8w5EgJC5mLaxT9kzH8-rdQwm3_)\n",
        "\n",
        "#### Consider the following Mixed Strategy\n",
        "\n",
        "σr=(.2,.8) and σc=(.6,.4)\n"
      ]
    },
    {
      "cell_type": "code",
      "metadata": {
        "id": "XPaaw8GXI5An",
        "colab": {
          "base_uri": "https://localhost:8080/"
        },
        "outputId": "29507286-5e20-457c-af59-676d8510b97d"
      },
      "source": [
        "# Calculate Utilities\n",
        "\n",
        "sigma_r = np.array([0.2, 0.8])\n",
        "sigma_c = np.array([0.6, 0.4])\n",
        "pd = nash.Game(P1, P2)\n",
        "pd[sigma_r, sigma_c]"
      ],
      "execution_count": 27,
      "outputs": [
        {
          "output_type": "execute_result",
          "data": {
            "text/plain": [
              "array([9.2, 3.6])"
            ]
          },
          "metadata": {},
          "execution_count": 27
        }
      ]
    },
    {
      "cell_type": "markdown",
      "metadata": {
        "id": "-nGQbdBQI5A0"
      },
      "source": [
        "### Validate the computation"
      ]
    },
    {
      "cell_type": "code",
      "metadata": {
        "id": "pmuAEpSII5Ar",
        "colab": {
          "base_uri": "https://localhost:8080/"
        },
        "outputId": "decbd00e-ba4d-42bc-b3e6-7c3e8b784b78"
      },
      "source": [
        "#ur(σr,σc)\n",
        "ur=0.2*0.6*8+0.2*0.4*1+0.8*0.6*15+0.8*0.4*3\n",
        "ur"
      ],
      "execution_count": 28,
      "outputs": [
        {
          "output_type": "execute_result",
          "data": {
            "text/plain": [
              "9.2"
            ]
          },
          "metadata": {},
          "execution_count": 28
        }
      ]
    },
    {
      "cell_type": "code",
      "metadata": {
        "id": "W6KZrnGxI5Au",
        "colab": {
          "base_uri": "https://localhost:8080/"
        },
        "outputId": "e3111a0e-ff6c-4170-8ade-fe56793c052e"
      },
      "source": [
        "#uc(σr,σc)\n",
        "uc=0.2*0.6*8+0.2*0.4*15+0.8*0.6*1+0.8*0.4*3\n",
        "uc"
      ],
      "execution_count": 29,
      "outputs": [
        {
          "output_type": "execute_result",
          "data": {
            "text/plain": [
              "3.6000000000000005"
            ]
          },
          "metadata": {},
          "execution_count": 29
        }
      ]
    },
    {
      "cell_type": "markdown",
      "metadata": {
        "id": "Y28VJqzfI5A2"
      },
      "source": [
        "### Exercise: Calculate the utilities of the game 'gm' created in the previous exercise, using \n",
        "#### σr=(.3,.7) and σc=(.5,.5)"
      ]
    },
    {
      "cell_type": "code",
      "metadata": {
        "id": "qf6LY92kI5A3",
        "colab": {
          "base_uri": "https://localhost:8080/"
        },
        "outputId": "6670c66b-cb8f-4b45-a1aa-b794e0ed4772"
      },
      "source": [
        "ur = 0.3*0.5*8+0.3*1*0.5+0.7*0.5*15+0.7*0.5*3\n",
        "uc = 0.5*0.3*8+0.5*0.7*15+0.5*0.3*1+0.5*0.7*3\n",
        "ur, uc"
      ],
      "execution_count": 21,
      "outputs": [
        {
          "output_type": "execute_result",
          "data": {
            "text/plain": [
              "(7.6499999999999995, 7.65)"
            ]
          },
          "metadata": {},
          "execution_count": 21
        }
      ]
    },
    {
      "cell_type": "code",
      "metadata": {
        "colab": {
          "base_uri": "https://localhost:8080/"
        },
        "id": "a3zhV1gTiIUB",
        "outputId": "12371155-56bb-4095-9c25-a16e54b5428c"
      },
      "source": [
        "sigma_r = np.array([.3, .7])\n",
        "sigma_c = np.array([.5, .5])\n",
        "gm = nash.Game(A, B)\n",
        "gm[sigma_r, sigma_c]"
      ],
      "execution_count": 61,
      "outputs": [
        {
          "output_type": "execute_result",
          "data": {
            "text/plain": [
              "array([12.4 ,  8.15])"
            ]
          },
          "metadata": {},
          "execution_count": 61
        }
      ]
    },
    {
      "cell_type": "markdown",
      "metadata": {
        "id": "sF4K0KlOI5A7"
      },
      "source": [
        "## 3. The Nash Equilibrium\n",
        "\n",
        "Strict and unique Nash Equilibrium\n",
        "\n",
        "![picture](https://drive.google.com/uc?id=1_B9Wk5Sb1jwK1AADXR1xj9n0tmALNykM)"
      ]
    },
    {
      "cell_type": "code",
      "metadata": {
        "id": "H9mFNqgOI5A8",
        "colab": {
          "base_uri": "https://localhost:8080/"
        },
        "outputId": "c8cdda6c-eff4-40d1-d634-38ad872848af"
      },
      "source": [
        "# Find the Nash Equilibrium with Support Enumeration\n",
        "\n",
        "equilibria = pd.support_enumeration()\n",
        "for eq in equilibria:\n",
        "  print(eq)"
      ],
      "execution_count": 35,
      "outputs": [
        {
          "output_type": "stream",
          "name": "stdout",
          "text": [
            "(array([0., 1.]), array([0., 1.]))\n"
          ]
        }
      ]
    },
    {
      "cell_type": "markdown",
      "metadata": {
        "id": "faBuCYODI5A_"
      },
      "source": [
        "#### Both solutions match"
      ]
    },
    {
      "cell_type": "markdown",
      "metadata": {
        "id": "7nFjsLoUI5BA"
      },
      "source": [
        "### Exercise: Find out the Nash Equilibrium for gm"
      ]
    },
    {
      "cell_type": "code",
      "metadata": {
        "id": "-WDnIp6SI5BB",
        "colab": {
          "base_uri": "https://localhost:8080/"
        },
        "outputId": "28db0e7e-caca-4897-d443-899e56cc4f58"
      },
      "source": [
        "equilibria = gm.support_enumeration()\n",
        "for eq in equilibria:\n",
        "  print(eq)"
      ],
      "execution_count": 55,
      "outputs": [
        {
          "output_type": "stream",
          "name": "stdout",
          "text": [
            "(array([0., 1.]), array([0., 1.]))\n"
          ]
        }
      ]
    },
    {
      "cell_type": "markdown",
      "metadata": {
        "id": "NY2yrKJNI5BG"
      },
      "source": [
        "## 4. Games with Multiple Nash Equilibria\n",
        "\n",
        "### Hawk - Dove Game\n",
        "\n",
        "![picture](https://drive.google.com/uc?id=1b8kKho3qu1s5b7Qriq6NYWqJxd5uKI6x)"
      ]
    },
    {
      "cell_type": "code",
      "metadata": {
        "id": "aQg_1AIMI5BG",
        "colab": {
          "base_uri": "https://localhost:8080/"
        },
        "outputId": "633b70aa-adfd-4564-97f6-52c9c291f594"
      },
      "source": [
        "P3 =  np.array([[3,1],[4,0]]) # P3 is the row player\n",
        "P4 =  np.array([[3,4],[1,0]]) # P4 is the column player\n",
        "hd = nash.Game(P3,P4)\n",
        "hd"
      ],
      "execution_count": 37,
      "outputs": [
        {
          "output_type": "execute_result",
          "data": {
            "text/plain": [
              "Bi matrix game with payoff matrices:\n",
              "\n",
              "Row player:\n",
              "[[3 1]\n",
              " [4 0]]\n",
              "\n",
              "Column player:\n",
              "[[3 4]\n",
              " [1 0]]"
            ]
          },
          "metadata": {},
          "execution_count": 37
        }
      ]
    },
    {
      "cell_type": "markdown",
      "metadata": {
        "id": "HdUrrBQ9I5BK"
      },
      "source": [
        "#### Nash Equilibria\n",
        "\n",
        "![picture](https://drive.google.com/uc?id=1JJxdwZ3y6U_hxMH-0l4i6LpuuTVhF5w0)\n"
      ]
    },
    {
      "cell_type": "code",
      "metadata": {
        "id": "BiVKP_72I5BL",
        "colab": {
          "base_uri": "https://localhost:8080/"
        },
        "outputId": "a29aef0e-bbf6-4f65-b7d4-dba57896f871"
      },
      "source": [
        "equilibria = hd.support_enumeration()\n",
        "for eq in equilibria:\n",
        "  print(eq)"
      ],
      "execution_count": 38,
      "outputs": [
        {
          "output_type": "stream",
          "name": "stdout",
          "text": [
            "(array([1., 0.]), array([0., 1.]))\n",
            "(array([0., 1.]), array([1., 0.]))\n",
            "(array([0.5, 0.5]), array([0.5, 0.5]))\n"
          ]
        }
      ]
    },
    {
      "cell_type": "markdown",
      "metadata": {
        "id": "Xolws3tSI5BO"
      },
      "source": [
        "Sol. (D,H)\n",
        "\n",
        "P3 : D = 1, H = 0\n",
        "\n",
        "P4 : D = 0, H = 1\n",
        "\n",
        "Sol. (H,D)\n",
        "\n",
        "P3 : D = 0, H = 1\n",
        "\n",
        "P4 : D = 1, H = 0\n",
        "\n",
        "Sol. (D,D) or (H,H)\n",
        "\n",
        "P3 : D = 0.5, H = 0.5\n",
        "\n",
        "P4 : D = 0.5, H = 0.5\n"
      ]
    },
    {
      "cell_type": "markdown",
      "metadata": {
        "id": "iVaY16XNI5BO"
      },
      "source": [
        "### Exercise: Find out the number of NE for the following matrix\n",
        "#### Players: M and N\n",
        "#### Name of game mn\n",
        "\n",
        "\n",
        "![picture](https://drive.google.com/uc?id=1mAeVXw3qHTyzEx4kgMsOlyrP6rJvpKlN)"
      ]
    },
    {
      "cell_type": "code",
      "metadata": {
        "id": "4NW4qyI4I5BP",
        "colab": {
          "base_uri": "https://localhost:8080/"
        },
        "outputId": "68f0b649-bc75-4223-b524-002158b817bb"
      },
      "source": [
        "M = np.array([[1,1,3,2],[2,3,4,3],[5,1,1,4]])\n",
        "N = np.array([[3,2,2,4],[1,4,2,0],[3,3,2,3]])\n",
        "mn=nash.Game(M,N)\n",
        "mn"
      ],
      "execution_count": 39,
      "outputs": [
        {
          "output_type": "execute_result",
          "data": {
            "text/plain": [
              "Bi matrix game with payoff matrices:\n",
              "\n",
              "Row player:\n",
              "[[1 1 3 2]\n",
              " [2 3 4 3]\n",
              " [5 1 1 4]]\n",
              "\n",
              "Column player:\n",
              "[[3 2 2 4]\n",
              " [1 4 2 0]\n",
              " [3 3 2 3]]"
            ]
          },
          "metadata": {},
          "execution_count": 39
        }
      ]
    },
    {
      "cell_type": "code",
      "metadata": {
        "id": "dbR3SnMPI5BS",
        "colab": {
          "base_uri": "https://localhost:8080/"
        },
        "outputId": "8da4a139-a2ce-4747-902e-ea2cd9953696"
      },
      "source": [
        "equilibria=mn.support_enumeration()\n",
        "for eq in equilibria:\n",
        "  print(eq)"
      ],
      "execution_count": 40,
      "outputs": [
        {
          "output_type": "stream",
          "name": "stdout",
          "text": [
            "(array([0., 1., 0.]), array([0., 1., 0., 0.]))\n",
            "(array([0., 0., 1.]), array([1., 0., 0., 0.]))\n",
            "(array([0., 0., 1.]), array([0., 0., 0., 1.]))\n"
          ]
        }
      ]
    },
    {
      "cell_type": "markdown",
      "metadata": {
        "id": "I2_Z8uVlI5BW"
      },
      "source": [
        "![picture](https://drive.google.com/uc?id=11UeEgrEh4VYWYAMwyvwLVGZlHT7On2Eo)"
      ]
    },
    {
      "cell_type": "markdown",
      "metadata": {
        "id": "5NhqPum6I5BX"
      },
      "source": [
        "## 5. Zero Sum Game\n",
        "\n",
        "Matching the pennies game\n",
        "\n",
        "![picture](https://drive.google.com/uc?id=1DJhLFiRbUah8Cvku03oGP5C2eFuDPxBQ)"
      ]
    },
    {
      "cell_type": "code",
      "metadata": {
        "id": "3w_YHAZTI5BX",
        "colab": {
          "base_uri": "https://localhost:8080/"
        },
        "outputId": "d87198a6-f158-4c3b-db4a-ecec0f22cd33"
      },
      "source": [
        "P5 = np.array([[1,-1],[-1,1]])\n",
        "mp = nash.Game(P5)\n",
        "mp"
      ],
      "execution_count": 41,
      "outputs": [
        {
          "output_type": "execute_result",
          "data": {
            "text/plain": [
              "Zero sum game with payoff matrices:\n",
              "\n",
              "Row player:\n",
              "[[ 1 -1]\n",
              " [-1  1]]\n",
              "\n",
              "Column player:\n",
              "[[-1  1]\n",
              " [ 1 -1]]"
            ]
          },
          "metadata": {},
          "execution_count": 41
        }
      ]
    },
    {
      "cell_type": "code",
      "metadata": {
        "id": "U9bM_W8eI5Bg",
        "colab": {
          "base_uri": "https://localhost:8080/"
        },
        "outputId": "6cb6b78a-498b-4d4b-abb7-8ce62ce0c183"
      },
      "source": [
        "equilibria = mp.support_enumeration()\n",
        "for eq in equilibria:\n",
        "  print(eq)"
      ],
      "execution_count": 42,
      "outputs": [
        {
          "output_type": "stream",
          "name": "stdout",
          "text": [
            "(array([0.5, 0.5]), array([0.5, 0.5]))\n"
          ]
        }
      ]
    },
    {
      "cell_type": "markdown",
      "metadata": {
        "id": "AwgfpFL-I5Bk"
      },
      "source": [
        "### Exercise: Find out the solution for the following zero sum game 'zs'\n",
        "#### Use payoff matrix - np.array([[5, -6.5], [-2.5, 7]]) \n",
        "#### For players Z1 and Z2"
      ]
    },
    {
      "cell_type": "code",
      "metadata": {
        "id": "B9ypJKPZI5Bl",
        "colab": {
          "base_uri": "https://localhost:8080/"
        },
        "outputId": "4dbd989e-a1ca-49db-f1b1-1b7392bf4881"
      },
      "source": [
        "Z1=np.array([[5, -6.5], [-2.5, 7]])\n",
        "zs=nash.Game(Z1)\n",
        "zs"
      ],
      "execution_count": 43,
      "outputs": [
        {
          "output_type": "execute_result",
          "data": {
            "text/plain": [
              "Zero sum game with payoff matrices:\n",
              "\n",
              "Row player:\n",
              "[[ 5.  -6.5]\n",
              " [-2.5  7. ]]\n",
              "\n",
              "Column player:\n",
              "[[-5.   6.5]\n",
              " [ 2.5 -7. ]]"
            ]
          },
          "metadata": {},
          "execution_count": 43
        }
      ]
    },
    {
      "cell_type": "code",
      "metadata": {
        "id": "9qPZdieaI5Bo",
        "colab": {
          "base_uri": "https://localhost:8080/"
        },
        "outputId": "268ffcdc-5df4-4c7d-c500-af00989cafee"
      },
      "source": [
        "equilibria = zs.support_enumeration()\n",
        "for eq in equilibria:\n",
        "  print(eq)"
      ],
      "execution_count": 44,
      "outputs": [
        {
          "output_type": "stream",
          "name": "stdout",
          "text": [
            "(array([0.45238095, 0.54761905]), array([0.64285714, 0.35714286]))\n"
          ]
        }
      ]
    },
    {
      "cell_type": "markdown",
      "metadata": {
        "id": "eVM0LDlfI5Br"
      },
      "source": [
        "## Two Player-Repeated Games with Axelrod"
      ]
    },
    {
      "cell_type": "markdown",
      "metadata": {
        "id": "gJtMM67EI5Bs"
      },
      "source": [
        "## 6. Create repeated game"
      ]
    },
    {
      "cell_type": "code",
      "metadata": {
        "id": "-qiWUNZ2I5Bs"
      },
      "source": [
        "#!pip install -U pyYAML     # Troubleshoot: Execute this line if Axelrod does not run and AttributeError: module 'yaml' has no attribute 'FullLoader' occurs\n",
        "\n",
        "# Import package\n",
        "\n",
        "import axelrod as axl"
      ],
      "execution_count": 45,
      "outputs": []
    },
    {
      "cell_type": "code",
      "metadata": {
        "id": "xAlZskFMI5Bv",
        "colab": {
          "base_uri": "https://localhost:8080/"
        },
        "outputId": "f72ad2bf-0e59-4234-9bec-0810abe7ad8e"
      },
      "source": [
        "# Create matches\n",
        "\n",
        "players = (axl.Cooperator(),axl.Alternator())                  # using players of Cooperator and Alternator strategy\n",
        "match1 =  axl.Match(players, turns=5)                           # play for 5 turns\n",
        "match1.play()"
      ],
      "execution_count": 46,
      "outputs": [
        {
          "output_type": "execute_result",
          "data": {
            "text/plain": [
              "[(C, C), (C, D), (C, C), (C, D), (C, C)]"
            ]
          },
          "metadata": {},
          "execution_count": 46
        }
      ]
    },
    {
      "cell_type": "code",
      "metadata": {
        "id": "InpWBSpII5Bx",
        "colab": {
          "base_uri": "https://localhost:8080/"
        },
        "outputId": "9bf1309a-bc13-4855-96ae-37d0f78682f4"
      },
      "source": [
        "axl.all_strategies"
      ],
      "execution_count": 47,
      "outputs": [
        {
          "output_type": "execute_result",
          "data": {
            "text/plain": [
              "[axelrod.strategies.memoryone.ALLCorALLD,\n",
              " axelrod.strategies.memorytwo.AON2,\n",
              " axelrod.strategies.apavlov.APavlov2006,\n",
              " axelrod.strategies.apavlov.APavlov2011,\n",
              " axelrod.strategies.adaptive.Adaptive,\n",
              " axelrod.strategies.titfortat.AdaptiveTitForTat,\n",
              " axelrod.strategies.adaptor.AdaptorBrief,\n",
              " axelrod.strategies.adaptor.AdaptorLong,\n",
              " axelrod.strategies.grudger.Aggravater,\n",
              " axelrod.strategies.titfortat.Alexei,\n",
              " axelrod.strategies.alternator.Alternator,\n",
              " axelrod.strategies.hunter.AlternatorHunter,\n",
              " axelrod.strategies.cycler.AntiCycler,\n",
              " axelrod.strategies.titfortat.AntiTitForTat,\n",
              " axelrod.strategies.appeaser.Appeaser,\n",
              " axelrod.strategies.qlearner.ArrogantQLearner,\n",
              " axelrod.strategies.averagecopier.AverageCopier,\n",
              " axelrod.strategies.backstabber.BackStabber,\n",
              " axelrod.strategies.better_and_better.BetterAndBetter,\n",
              " axelrod.strategies.titfortat.Bully,\n",
              " axelrod.strategies.bush_mosteller.BushMosteller,\n",
              " axelrod.strategies.calculator.Calculator,\n",
              " axelrod.strategies.qlearner.CautiousQLearner,\n",
              " axelrod.strategies.prober.CollectiveStrategy,\n",
              " axelrod.strategies.titfortat.ContriteTitForTat,\n",
              " axelrod.strategies.cooperator.Cooperator,\n",
              " axelrod.strategies.hunter.CooperatorHunter,\n",
              " axelrod.strategies.hunter.CycleHunter,\n",
              " axelrod.strategies.cycler.CyclerCCCCCD,\n",
              " axelrod.strategies.cycler.CyclerCCCD,\n",
              " axelrod.strategies.cycler.CyclerCCCDCD,\n",
              " axelrod.strategies.cycler.CyclerCCD,\n",
              " axelrod.strategies.cycler.CyclerDC,\n",
              " axelrod.strategies.cycler.CyclerDDC,\n",
              " axelrod.strategies.dbs.DBS,\n",
              " axelrod.strategies.darwin.Darwin,\n",
              " axelrod.strategies.defector.Defector,\n",
              " axelrod.strategies.hunter.DefectorHunter,\n",
              " axelrod.strategies.memorytwo.DelayedAON1,\n",
              " axelrod.strategies.mutual.Desperate,\n",
              " axelrod.strategies.prober.Detective,\n",
              " axelrod.strategies.backstabber.DoubleCrosser,\n",
              " axelrod.strategies.resurrection.DoubleResurrection,\n",
              " axelrod.strategies.doubler.Doubler,\n",
              " axelrod.strategies.titfortat.DynamicTwoTitsForTat,\n",
              " axelrod.strategies.grudger.EasyGo,\n",
              " axelrod.strategies.titfortat.EugineNier,\n",
              " axelrod.strategies.hunter.EventualCycleHunter,\n",
              " axelrod.strategies.ann.EvolvedANN,\n",
              " axelrod.strategies.ann.EvolvedANN5,\n",
              " axelrod.strategies.ann.EvolvedANNNoise05,\n",
              " axelrod.strategies.finite_state_machines.EvolvedFSM16,\n",
              " axelrod.strategies.finite_state_machines.EvolvedFSM16Noise05,\n",
              " axelrod.strategies.finite_state_machines.EvolvedFSM4,\n",
              " axelrod.strategies.finite_state_machines.EvolvedFSM6,\n",
              " axelrod.strategies.hmm.EvolvedHMM5,\n",
              " axelrod.strategies.lookerup.EvolvedLookerUp1_1_1,\n",
              " axelrod.strategies.lookerup.EvolvedLookerUp2_2_2,\n",
              " axelrod.strategies.memoryone.FirmButFair,\n",
              " axelrod.strategies.axelrod_first.FirstByAnonymous,\n",
              " axelrod.strategies.axelrod_first.FirstByDavis,\n",
              " axelrod.strategies.axelrod_first.FirstByDowning,\n",
              " axelrod.strategies.axelrod_first.FirstByFeld,\n",
              " axelrod.strategies.axelrod_first.FirstByGraaskamp,\n",
              " axelrod.strategies.axelrod_first.FirstByGrofman,\n",
              " axelrod.strategies.axelrod_first.FirstByJoss,\n",
              " axelrod.strategies.axelrod_first.FirstByNydegger,\n",
              " axelrod.strategies.axelrod_first.FirstByShubik,\n",
              " axelrod.strategies.axelrod_first.FirstBySteinAndRapoport,\n",
              " axelrod.strategies.axelrod_first.FirstByTidemanAndChieruzzi,\n",
              " axelrod.strategies.axelrod_first.FirstByTullock,\n",
              " axelrod.strategies.oncebitten.FoolMeOnce,\n",
              " axelrod.strategies.oncebitten.ForgetfulFoolMeOnce,\n",
              " axelrod.strategies.grudger.ForgetfulGrudger,\n",
              " axelrod.strategies.forgiver.Forgiver,\n",
              " axelrod.strategies.forgiver.ForgivingTitForTat,\n",
              " axelrod.strategies.finite_state_machines.Fortress3,\n",
              " axelrod.strategies.finite_state_machines.Fortress4,\n",
              " axelrod.strategies.memoryone.GTFT,\n",
              " axelrod.strategies.grudger.GeneralSoftGrudger,\n",
              " axelrod.strategies.gobymajority.GoByMajority,\n",
              " axelrod.strategies.gobymajority.GoByMajority10,\n",
              " axelrod.strategies.gobymajority.GoByMajority20,\n",
              " axelrod.strategies.gobymajority.GoByMajority40,\n",
              " axelrod.strategies.gobymajority.GoByMajority5,\n",
              " axelrod.strategies.mathematicalconstants.Golden,\n",
              " axelrod.strategies.titfortat.Gradual,\n",
              " axelrod.strategies.gradualkiller.GradualKiller,\n",
              " axelrod.strategies.grudger.Grudger,\n",
              " axelrod.strategies.grudger.GrudgerAlternator,\n",
              " axelrod.strategies.grumpy.Grumpy,\n",
              " axelrod.strategies.handshake.Handshake,\n",
              " axelrod.strategies.gobymajority.HardGoByMajority,\n",
              " axelrod.strategies.gobymajority.HardGoByMajority10,\n",
              " axelrod.strategies.gobymajority.HardGoByMajority20,\n",
              " axelrod.strategies.gobymajority.HardGoByMajority40,\n",
              " axelrod.strategies.gobymajority.HardGoByMajority5,\n",
              " axelrod.strategies.prober.HardProber,\n",
              " axelrod.strategies.titfortat.HardTitFor2Tats,\n",
              " axelrod.strategies.titfortat.HardTitForTat,\n",
              " axelrod.strategies.qlearner.HesitantQLearner,\n",
              " axelrod.strategies.mutual.Hopeless,\n",
              " axelrod.strategies.inverse.Inverse,\n",
              " axelrod.strategies.punisher.InversePunisher,\n",
              " axelrod.strategies.worse_and_worse.KnowledgeableWorseAndWorse,\n",
              " axelrod.strategies.punisher.LevelPunisher,\n",
              " axelrod.strategies.retaliate.LimitedRetaliate,\n",
              " axelrod.strategies.retaliate.LimitedRetaliate2,\n",
              " axelrod.strategies.retaliate.LimitedRetaliate3,\n",
              " axelrod.strategies.memorytwo.MEM2,\n",
              " axelrod.strategies.hunter.MathConstantHunter,\n",
              " axelrod.strategies.titfortat.Michaelos,\n",
              " axelrod.strategies.titfortat.NTitsForMTats,\n",
              " axelrod.strategies.prober.NaiveProber,\n",
              " axelrod.strategies.negation.Negation,\n",
              " axelrod.strategies.averagecopier.NiceAverageCopier,\n",
              " axelrod.strategies.titfortat.OmegaTFT,\n",
              " axelrod.strategies.oncebitten.OnceBitten,\n",
              " axelrod.strategies.grudger.OppositeGrudger,\n",
              " axelrod.strategies.titfortat.OriginalGradual,\n",
              " axelrod.strategies.gambler.PSOGambler1_1_1,\n",
              " axelrod.strategies.gambler.PSOGambler2_2_2,\n",
              " axelrod.strategies.gambler.PSOGambler2_2_2_Noise05,\n",
              " axelrod.strategies.gambler.PSOGamblerMem1,\n",
              " axelrod.strategies.mathematicalconstants.Pi,\n",
              " axelrod.strategies.finite_state_machines.Predator,\n",
              " axelrod.strategies.prober.Prober,\n",
              " axelrod.strategies.prober.Prober2,\n",
              " axelrod.strategies.prober.Prober3,\n",
              " axelrod.strategies.prober.Prober4,\n",
              " axelrod.strategies.finite_state_machines.Pun1,\n",
              " axelrod.strategies.punisher.Punisher,\n",
              " axelrod.strategies.finite_state_machines.Raider,\n",
              " axelrod.strategies.rand.Random,\n",
              " axelrod.strategies.hunter.RandomHunter,\n",
              " axelrod.strategies.titfortat.RandomTitForTat,\n",
              " axelrod.strategies.prober.RemorsefulProber,\n",
              " axelrod.strategies.resurrection.Resurrection,\n",
              " axelrod.strategies.retaliate.Retaliate,\n",
              " axelrod.strategies.retaliate.Retaliate2,\n",
              " axelrod.strategies.retaliate.Retaliate3,\n",
              " axelrod.strategies.revised_downing.RevisedDowning,\n",
              " axelrod.strategies.finite_state_machines.Ripoff,\n",
              " axelrod.strategies.qlearner.RiskyQLearner,\n",
              " axelrod.strategies.axelrod_second.SecondByAppold,\n",
              " axelrod.strategies.axelrod_second.SecondByBlack,\n",
              " axelrod.strategies.axelrod_second.SecondByBorufsen,\n",
              " axelrod.strategies.axelrod_second.SecondByCave,\n",
              " axelrod.strategies.axelrod_second.SecondByChampion,\n",
              " axelrod.strategies.axelrod_second.SecondByColbert,\n",
              " axelrod.strategies.axelrod_second.SecondByEatherley,\n",
              " axelrod.strategies.axelrod_second.SecondByGetzler,\n",
              " axelrod.strategies.axelrod_second.SecondByGladstein,\n",
              " axelrod.strategies.axelrod_second.SecondByGraaskampKatzen,\n",
              " axelrod.strategies.axelrod_second.SecondByGrofman,\n",
              " axelrod.strategies.axelrod_second.SecondByHarrington,\n",
              " axelrod.strategies.axelrod_second.SecondByKluepfel,\n",
              " axelrod.strategies.axelrod_second.SecondByLeyvraz,\n",
              " axelrod.strategies.axelrod_second.SecondByMikkelson,\n",
              " axelrod.strategies.axelrod_second.SecondByRichardHufford,\n",
              " axelrod.strategies.axelrod_second.SecondByRowsam,\n",
              " axelrod.strategies.axelrod_second.SecondByTester,\n",
              " axelrod.strategies.axelrod_second.SecondByTidemanAndChieruzzi,\n",
              " axelrod.strategies.axelrod_second.SecondByTranquilizer,\n",
              " axelrod.strategies.axelrod_second.SecondByWeiner,\n",
              " axelrod.strategies.axelrod_second.SecondByWhite,\n",
              " axelrod.strategies.axelrod_second.SecondByWmAdams,\n",
              " axelrod.strategies.axelrod_second.SecondByYamachi,\n",
              " axelrod.strategies.selfsteem.SelfSteem,\n",
              " axelrod.strategies.shortmem.ShortMem,\n",
              " axelrod.strategies.titfortat.SlowTitForTwoTats2,\n",
              " axelrod.strategies.titfortat.SneakyTitForTat,\n",
              " axelrod.strategies.grudger.SoftGrudger,\n",
              " axelrod.strategies.memoryone.SoftJoss,\n",
              " axelrod.strategies.finite_state_machines.SolutionB1,\n",
              " axelrod.strategies.finite_state_machines.SolutionB5,\n",
              " axelrod.strategies.titfortat.SpitefulTitForTat,\n",
              " axelrod.strategies.grudger.SpitefulCC,\n",
              " axelrod.strategies.stalker.Stalker,\n",
              " axelrod.strategies.memoryone.StochasticCooperator,\n",
              " axelrod.strategies.memoryone.StochasticWSLS,\n",
              " axelrod.strategies.titfortat.SuspiciousTitForTat,\n",
              " axelrod.strategies.finite_state_machines.TF1,\n",
              " axelrod.strategies.finite_state_machines.TF2,\n",
              " axelrod.strategies.finite_state_machines.TF3,\n",
              " axelrod.strategies.sequence_player.ThueMorse,\n",
              " axelrod.strategies.sequence_player.ThueMorseInverse,\n",
              " axelrod.strategies.finite_state_machines.Thumper,\n",
              " axelrod.strategies.titfortat.TitFor2Tats,\n",
              " axelrod.strategies.titfortat.TitForTat,\n",
              " axelrod.strategies.cooperator.TrickyCooperator,\n",
              " axelrod.strategies.defector.TrickyDefector,\n",
              " axelrod.strategies.punisher.TrickyLevelPunisher,\n",
              " axelrod.strategies.titfortat.TwoTitsForTat,\n",
              " axelrod.strategies.finite_state_machines.UsuallyCooperates,\n",
              " axelrod.strategies.finite_state_machines.UsuallyDefects,\n",
              " axelrod.strategies.verybad.VeryBad,\n",
              " axelrod.strategies.mutual.Willing,\n",
              " axelrod.strategies.memoryone.WinShiftLoseStay,\n",
              " axelrod.strategies.memoryone.WinStayLoseShift,\n",
              " axelrod.strategies.lookerup.Winner12,\n",
              " axelrod.strategies.lookerup.Winner21,\n",
              " axelrod.strategies.worse_and_worse.WorseAndWorse,\n",
              " axelrod.strategies.worse_and_worse.WorseAndWorse2,\n",
              " axelrod.strategies.worse_and_worse.WorseAndWorse3,\n",
              " axelrod.strategies.zero_determinant.ZDExtort2,\n",
              " axelrod.strategies.zero_determinant.ZDExtort2v2,\n",
              " axelrod.strategies.zero_determinant.ZDExtort3,\n",
              " axelrod.strategies.zero_determinant.ZDExtort4,\n",
              " axelrod.strategies.zero_determinant.ZDExtortion,\n",
              " axelrod.strategies.zero_determinant.ZDGTFT2,\n",
              " axelrod.strategies.zero_determinant.ZDGen2,\n",
              " axelrod.strategies.gambler.ZDMem2,\n",
              " axelrod.strategies.zero_determinant.ZDMischief,\n",
              " axelrod.strategies.zero_determinant.ZDSet2,\n",
              " axelrod.strategies.mathematicalconstants.e,\n",
              " axelrod.strategies.meta.MemoryDecay,\n",
              " axelrod.strategies.meta.MetaHunter,\n",
              " axelrod.strategies.meta.MetaHunterAggressive,\n",
              " axelrod.strategies.meta.MetaMajority,\n",
              " axelrod.strategies.meta.MetaMajorityMemoryOne,\n",
              " axelrod.strategies.meta.MetaMajorityFiniteMemory,\n",
              " axelrod.strategies.meta.MetaMajorityLongMemory,\n",
              " axelrod.strategies.meta.MetaMinority,\n",
              " axelrod.strategies.meta.MetaMixer,\n",
              " axelrod.strategies.meta.MetaWinner,\n",
              " axelrod.strategies.meta.MetaWinnerDeterministic,\n",
              " axelrod.strategies.meta.MetaWinnerEnsemble,\n",
              " axelrod.strategies.meta.MetaWinnerMemoryOne,\n",
              " axelrod.strategies.meta.MetaWinnerFiniteMemory,\n",
              " axelrod.strategies.meta.MetaWinnerLongMemory,\n",
              " axelrod.strategies.meta.MetaWinnerStochastic,\n",
              " axelrod.strategies.meta.NMWEDeterministic,\n",
              " axelrod.strategies.meta.NMWEFiniteMemory,\n",
              " axelrod.strategies.meta.NMWELongMemory,\n",
              " axelrod.strategies.meta.NMWEMemoryOne,\n",
              " axelrod.strategies.meta.NMWEStochastic,\n",
              " axelrod.strategies.meta.NiceMetaWinner,\n",
              " axelrod.strategies.meta.NiceMetaWinnerEnsemble]"
            ]
          },
          "metadata": {},
          "execution_count": 47
        }
      ]
    },
    {
      "cell_type": "markdown",
      "metadata": {
        "id": "ZwEQbFjbI5B2"
      },
      "source": [
        "### Exercise: Create a repeated game with 2 players having:\n",
        "#### I. TitForTat and Random Strategy \n",
        "#### II. Name it as match2\n",
        "#### III. Run it for 15 turns"
      ]
    },
    {
      "cell_type": "code",
      "metadata": {
        "id": "M8tlSW99I5B3",
        "colab": {
          "base_uri": "https://localhost:8080/"
        },
        "outputId": "d2e791db-c743-4027-9f9e-fdb37ba3785e"
      },
      "source": [
        "players = (axl.TitForTat(),axl.Random())                  \n",
        "match2 =  axl.Match(players, turns=15)                           \n",
        "match2.play()"
      ],
      "execution_count": 48,
      "outputs": [
        {
          "output_type": "execute_result",
          "data": {
            "text/plain": [
              "[(C, C),\n",
              " (C, C),\n",
              " (C, D),\n",
              " (D, C),\n",
              " (C, C),\n",
              " (C, C),\n",
              " (C, C),\n",
              " (C, D),\n",
              " (D, C),\n",
              " (C, D),\n",
              " (D, D),\n",
              " (D, C),\n",
              " (C, D),\n",
              " (D, C),\n",
              " (C, D)]"
            ]
          },
          "metadata": {},
          "execution_count": 48
        }
      ]
    },
    {
      "cell_type": "markdown",
      "metadata": {
        "id": "8hZOv2xQI5B_"
      },
      "source": [
        "## 7. Analyze Match"
      ]
    },
    {
      "cell_type": "code",
      "metadata": {
        "id": "eD9qeCgEI5B_",
        "colab": {
          "base_uri": "https://localhost:8080/"
        },
        "outputId": "2a326b9e-8c10-47c0-9cc9-5544c2044401"
      },
      "source": [
        "# Payoffs\n",
        "\n",
        "match1.game        #Analyze the match\n",
        "\n",
        "#These payoffs are commonly referred to as:\n",
        "\n",
        "#R: the Reward payoff (default value in the library: 3) C-C\n",
        "#P: the Punishment payoff (default value in the library: 1) D-D\n",
        "#S: the Loss payoff (default value in the library: 0) C-D\n",
        "#T: the Temptation payoff (default value in the library: 5) D-C"
      ],
      "execution_count": 49,
      "outputs": [
        {
          "output_type": "execute_result",
          "data": {
            "text/plain": [
              "Axelrod game: (R,P,S,T) = (3, 1, 0, 5)"
            ]
          },
          "metadata": {},
          "execution_count": 49
        }
      ]
    },
    {
      "cell_type": "code",
      "metadata": {
        "id": "xs7rQEyZI5CC",
        "colab": {
          "base_uri": "https://localhost:8080/"
        },
        "outputId": "3ddeb47c-17bc-48a2-99a9-7d777da38532"
      },
      "source": [
        "# Scores of a match\n",
        "\n",
        "match1.scores()     #Retrieve match scores"
      ],
      "execution_count": 50,
      "outputs": [
        {
          "output_type": "execute_result",
          "data": {
            "text/plain": [
              "[(3, 3), (0, 5), (3, 3), (0, 5), (3, 3)]"
            ]
          },
          "metadata": {},
          "execution_count": 50
        }
      ]
    },
    {
      "cell_type": "code",
      "metadata": {
        "id": "zCkP68lJI5CF",
        "colab": {
          "base_uri": "https://localhost:8080/"
        },
        "outputId": "1fd331fa-0055-44c8-960a-acd3b8343cf3"
      },
      "source": [
        "\n",
        "# The result of the match can also be viewed as sparklines where cooperation is shown as a solid block and defection as a space. \n",
        "\n",
        "print(match1.sparklines())  # Get output using sparklines"
      ],
      "execution_count": 51,
      "outputs": [
        {
          "output_type": "stream",
          "name": "stdout",
          "text": [
            "█████\n",
            "█ █ █\n"
          ]
        }
      ]
    },
    {
      "cell_type": "markdown",
      "metadata": {
        "id": "rkbk8a-NI5CH"
      },
      "source": [
        "### Exercise: Analyze match2. \n",
        "#### Find the score and create the sparklines"
      ]
    },
    {
      "cell_type": "code",
      "metadata": {
        "id": "snBJkfDJI5CI",
        "colab": {
          "base_uri": "https://localhost:8080/"
        },
        "outputId": "5649ee9a-e358-46bf-a478-0d7adce67ff4"
      },
      "source": [
        "match2.scores()"
      ],
      "execution_count": 52,
      "outputs": [
        {
          "output_type": "execute_result",
          "data": {
            "text/plain": [
              "[(3, 3),\n",
              " (3, 3),\n",
              " (0, 5),\n",
              " (5, 0),\n",
              " (3, 3),\n",
              " (3, 3),\n",
              " (3, 3),\n",
              " (0, 5),\n",
              " (5, 0),\n",
              " (0, 5),\n",
              " (1, 1),\n",
              " (5, 0),\n",
              " (0, 5),\n",
              " (5, 0),\n",
              " (0, 5)]"
            ]
          },
          "metadata": {},
          "execution_count": 52
        }
      ]
    },
    {
      "cell_type": "code",
      "metadata": {
        "id": "0665Gwk4I5CL",
        "colab": {
          "base_uri": "https://localhost:8080/"
        },
        "outputId": "c313ef2e-5dc2-486b-f358-c0b4b81ef26d"
      },
      "source": [
        "print(match2.sparklines())"
      ],
      "execution_count": 53,
      "outputs": [
        {
          "output_type": "stream",
          "name": "stdout",
          "text": [
            "███ ████ █  █ █\n",
            "██ ████ █  █ █ \n"
          ]
        }
      ]
    },
    {
      "cell_type": "markdown",
      "metadata": {
        "id": "B9h2o5YmI5CP"
      },
      "source": [
        "#### References:\n",
        "\n",
        "Package Documentations\n",
        "\n",
        "https://nashpy.readthedocs.io/en/stable/index.html#\n",
        "\n",
        "https://axelrod.readthedocs.io/en/stable/#"
      ]
    }
  ]
}